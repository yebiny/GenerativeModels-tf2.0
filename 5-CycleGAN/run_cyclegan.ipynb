{
 "cells": [
  {
   "cell_type": "code",
   "execution_count": 1,
   "metadata": {},
   "outputs": [],
   "source": [
    "from data_generator import *\n",
    "\n",
    "DG = DataGenerator('horse2zebra', 128, 128)\n",
    "a_train, b_train, a_test, b_test = DG.get_dataset()\n",
    "a_train.shape, b_train.shape, a_test.shape, b_test.shape"
   ]
  },
  {
   "cell_type": "code",
   "execution_count": 3,
   "metadata": {},
   "outputs": [],
   "source": [
    "from build_models import *\n",
    "\n",
    "builder = BuildModel(input_shape=(128,128,3))\n",
    "gene_a = builder.build_generator(name='G_ab')\n",
    "gene_b = builder.build_generator(name='G_ba')\n",
    "disc_a = builder.build_discriminator(name='D_a')\n",
    "disc_b = builder.build_discriminator(name='D_b')"
   ]
  },
  {
   "cell_type": "code",
   "execution_count": 4,
   "metadata": {},
   "outputs": [],
   "source": [
    "from cycleGAN import *\n",
    "\n",
    "model = CycleGAN(gene_a, gene_b, disc_a, disc_b)\n",
    "model.compile(tf.optimizers.Adam(0.0002, 0.5))\n",
    "history = model.train(a_train, b_train, 5, 16)"
   ]
  },
  {
   "cell_type": "code",
   "execution_count": 6,
   "metadata": {},
   "outputs": [
    {
     "data": {
      "text/plain": [
       "{'d_loss': [12.578576162457466,\n",
       "  8.722396939992905,\n",
       "  6.5376317501068115,\n",
       "  5.590044319629669,\n",
       "  4.063921924680471],\n",
       " 'g_loss': [928.7256689071655,\n",
       "  709.7969255447388,\n",
       "  673.9065895080566,\n",
       "  659.9614944458008,\n",
       "  647.6899909973145]}"
      ]
     },
     "execution_count": 6,
     "metadata": {},
     "output_type": "execute_result"
    }
   ],
   "source": [
    "history"
   ]
  },
  {
   "cell_type": "code",
   "execution_count": null,
   "metadata": {},
   "outputs": [],
   "source": []
  }
 ],
 "metadata": {
  "kernelspec": {
   "display_name": "Python 3",
   "language": "python",
   "name": "python3"
  },
  "language_info": {
   "codemirror_mode": {
    "name": "ipython",
    "version": 3
   },
   "file_extension": ".py",
   "mimetype": "text/x-python",
   "name": "python",
   "nbconvert_exporter": "python",
   "pygments_lexer": "ipython3",
   "version": "3.7.4"
  },
  "toc": {
   "base_numbering": 1,
   "nav_menu": {},
   "number_sections": true,
   "sideBar": true,
   "skip_h1_title": false,
   "title_cell": "Table of Contents",
   "title_sidebar": "Contents",
   "toc_cell": false,
   "toc_position": {},
   "toc_section_display": true,
   "toc_window_display": false
  }
 },
 "nbformat": 4,
 "nbformat_minor": 4
}
